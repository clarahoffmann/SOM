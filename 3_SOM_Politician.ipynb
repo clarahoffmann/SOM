{
  "nbformat": 4,
  "nbformat_minor": 0,
  "metadata": {
    "colab": {
      "name": "3.SOM_Politician.ipynb",
      "version": "0.3.2",
      "provenance": [],
      "collapsed_sections": []
    },
    "kernelspec": {
      "name": "python3",
      "display_name": "Python 3"
    }
  },
  "cells": [
    {
      "cell_type": "code",
      "metadata": {
        "id": "wkxBNAkgoLOH",
        "colab_type": "code",
        "outputId": "df281044-77ad-4b94-9ccd-0a20729f055c",
        "colab": {
          "base_uri": "https://localhost:8080/",
          "height": 34
        }
      },
      "source": [
        "# load data\n",
        "from google.colab import drive\n",
        "drive.mount('/content/gdrive')"
      ],
      "execution_count": 41,
      "outputs": [
        {
          "output_type": "stream",
          "text": [
            "Drive already mounted at /content/gdrive; to attempt to forcibly remount, call drive.mount(\"/content/gdrive\", force_remount=True).\n"
          ],
          "name": "stdout"
        }
      ]
    },
    {
      "cell_type": "code",
      "metadata": {
        "id": "IH3QLeHJoR0F",
        "colab_type": "code",
        "outputId": "486ab4da-ad5c-453c-b75d-f8c73e5ba64a",
        "colab": {
          "base_uri": "https://localhost:8080/",
          "height": 34
        }
      },
      "source": [
        "import numpy as np\n",
        "import pandas as pd\n",
        "import matplotlib.pyplot as plt\n",
        "from matplotlib.patches import Patch\n",
        "!pip install minisom\n",
        "from minisom import MiniSom\n",
        "import math  "
      ],
      "execution_count": 42,
      "outputs": [
        {
          "output_type": "stream",
          "text": [
            "Requirement already satisfied: minisom in /usr/local/lib/python3.6/dist-packages (2.1.6)\n"
          ],
          "name": "stdout"
        }
      ]
    },
    {
      "cell_type": "code",
      "metadata": {
        "id": "d3NUUXaXoVm0",
        "colab_type": "code",
        "colab": {}
      },
      "source": [
        "# load data\n",
        "data =pd.read_csv('/content/gdrive/My Drive/data_wordvectors_pers.csv', sep=',').iloc[:, 1:]\n",
        "\n",
        "indexvec = []\n",
        "for col in range(0, len(data.columns)-2): \n",
        "  indexvec.append(\"x\" + str(col+1))\n",
        "indexvec\n",
        "vectors = data[indexvec]\n",
        "vectors = np.array(vectors)"
      ],
      "execution_count": 0,
      "outputs": []
    },
    {
      "cell_type": "code",
      "metadata": {
        "id": "pJAQeupZbwF5",
        "colab_type": "code",
        "colab": {}
      },
      "source": [
        "data"
      ],
      "execution_count": 0,
      "outputs": []
    },
    {
      "cell_type": "code",
      "metadata": {
        "id": "NzZf9u318U0-",
        "colab_type": "code",
        "colab": {}
      },
      "source": [
        "category_color = {'CDU' : 'black',\n",
        "                 'SPD': 'red',\n",
        "                 'Grüne' : 'green',\n",
        "                 'AfD' : 'brown',\n",
        "                 'Linke': 'darkred',\n",
        "                 'FDP' : 'yellow'}\n",
        "  \n",
        "category_color2 = {'Annegreth Kramp-Karrenbauer': 'black',\n",
        "                  'Angela Merkel': 'black',\n",
        "                  'Katharina Barley': 'red',\n",
        "                  'Andrea Nahles': 'red',\n",
        "                   \"Cem Özdemir\":'limegreen',\n",
        "                 \"Kathrin Goering-Eckardt\":'limegreen',\n",
        "                 \"Alice Weidel\": 'brown',\n",
        "                 \"Jörg Meuthen\": 'brown',\n",
        "                 \"Sarah Wagenknecht\": 'darkred',\n",
        "                 \"Christian Lindner\": 'yellow'}\n",
        "category_short = {'Annegreth Kramp-Karrenbauer': 'AKK',\n",
        "                  'Angela Merkel': 'AM',\n",
        "                  'Katharina Barley': 'KB',\n",
        "                  'Andrea Nahles': 'AN',\n",
        "                   \"Cem Özdemir\":'CÖ',\n",
        "                 \"Kathrin Goering-Eckardt\":'KGE',\n",
        "                 \"Alice Weidel\": 'AW',\n",
        "                 \"Jörg Meuthen\": 'JM',\n",
        "                 \"Sarah Wagenknecht\": 'SW',\n",
        "                 \"Christian Lindner\": 'CL'}"
      ],
      "execution_count": 0,
      "outputs": []
    },
    {
      "cell_type": "code",
      "metadata": {
        "id": "D7642zIA6FXl",
        "colab_type": "code",
        "colab": {}
      },
      "source": [
        "# choose map dimension as number of samples so that\n",
        "# each neuron gets mapped to a sample\n",
        "# in our case: one tweet\n",
        "map_dim = 8 #round(5*math.sqrt(len(vectors)))\n",
        "\n",
        "print(\"Training...\")\n",
        "som = MiniSom(map_dim, map_dim, 30, sigma=1.0, random_seed=1)\n",
        "som.pca_weights_init(vectors)\n",
        "print(\"\\n...ready!\")\n"
      ],
      "execution_count": 0,
      "outputs": []
    },
    {
      "cell_type": "markdown",
      "metadata": {
        "id": "ep5lUlZZYN1e",
        "colab_type": "text"
      },
      "source": [
        "dicussion on how many neurons to take:\n",
        "https://www.researchgate.net/post/How_many_nodes_for_self-organizing_maps"
      ]
    },
    {
      "cell_type": "code",
      "metadata": {
        "id": "ig1YGIDG6Xgk",
        "colab_type": "code",
        "colab": {}
      },
      "source": [
        "# train SOM\n",
        "# due to our large observation size this might take some time...\n",
        "som.train_batch(vectors, len(vectors)*10)"
      ],
      "execution_count": 0,
      "outputs": []
    },
    {
      "cell_type": "code",
      "metadata": {
        "id": "q7vsaWyS7W2H",
        "colab_type": "code",
        "colab": {}
      },
      "source": [
        "user_map = som.labels_map(vectors, data['name'])"
      ],
      "execution_count": 0,
      "outputs": []
    },
    {
      "cell_type": "code",
      "metadata": {
        "id": "kq8ddEz8H6WI",
        "colab_type": "code",
        "outputId": "7a31c6fa-2c16-4bcf-8189-c488aa1fd7b1",
        "colab": {
          "base_uri": "https://localhost:8080/",
          "height": 54
        }
      },
      "source": [
        "user_map.items()"
      ],
      "execution_count": 63,
      "outputs": [
        {
          "output_type": "execute_result",
          "data": {
            "text/plain": [
              "dict_items([((2, 0), Counter({'Annegreth Kramp-Karrenbauer': 1, 'Angela Merkel': 1})), ((0, 0), Counter({'Katharina Barley': 1, 'Christian Lindner': 1})), ((3, 3), Counter({'Andrea Nahles': 1})), ((3, 2), Counter({'Cem Özdemir': 1})), ((5, 5), Counter({'Kathrin Goering-Eckardt': 1})), ((4, 4), Counter({'Alice Weidel': 1})), ((0, 1), Counter({'Jörg Meuthen': 1})), ((4, 1), Counter({'Sarah Wagenknecht': 1}))])"
            ]
          },
          "metadata": {
            "tags": []
          },
          "execution_count": 63
        }
      ]
    },
    {
      "cell_type": "code",
      "metadata": {
        "id": "dMar1lBu7_d_",
        "colab_type": "code",
        "outputId": "c7273998-4b7c-4c2f-c24b-f1696718dd56",
        "colab": {
          "base_uri": "https://localhost:8080/",
          "height": 508
        }
      },
      "source": [
        "plt.figure(figsize=(map_dim, map_dim))\n",
        "plt.pcolor(som.distance_map().T, cmap='gray_r', alpha=.2)\n",
        "plt.xticks(np.arange(map_dim+1))\n",
        "plt.yticks(np.arange(map_dim+1))\n",
        "plt.grid()\n",
        "\n",
        "for p, name in user_map.items():\n",
        "    name = list(name)\n",
        "    x = p[0] + .5\n",
        "    y = p[1] - .5\n",
        "    for i, c in enumerate(name):\n",
        "        off_set = (i+1)/len(name) - 0.05\n",
        "        plt.text(x, y+off_set, category_short[c], color = category_color2[c],  fontsize=10)\n",
        "        #plt.plot(x, y+off_set, 'ro', color = category_color2[c],)\n",
        "legend_elements = [Patch(facecolor=clr,\n",
        "                         edgecolor='w',\n",
        "                         label=l) for l, clr in category_color.items()]\n",
        "plt.legend(handles=legend_elements, loc='center left', bbox_to_anchor=(1, .95))\n",
        "plt.show()"
      ],
      "execution_count": 64,
      "outputs": [
        {
          "output_type": "display_data",
          "data": {
            "image/png": "[encoded data removed]",
            "text/plain": [
              "<Figure size 576x576 with 1 Axes>"
            ]
          },
          "metadata": {
            "tags": []
          }
        }
      ]
    },
    {
      "cell_type": "markdown",
      "metadata": {
        "id": "5b3fyD__Htdx",
        "colab_type": "text"
      },
      "source": [
        "Sources:\n",
        "https://github.com/JustGlowing/minisom/blob/master/examples/DemocracyIndex.ipynb"
      ]
    }
  ]
}