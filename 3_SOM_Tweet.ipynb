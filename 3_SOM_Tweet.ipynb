{
  "nbformat": 4,
  "nbformat_minor": 0,
  "metadata": {
    "colab": {
      "name": "3.SOM_Tweet.ipynb",
      "version": "0.3.2",
      "provenance": []
    },
    "kernelspec": {
      "name": "python3",
      "display_name": "Python 3"
    }
  },
  "cells": [
    {
      "cell_type": "markdown",
      "metadata": {
        "id": "TxijacJ2i_G9",
        "colab_type": "text"
      },
      "source": [
        "ich konnte es noch nicht laufen lassen weil zu viele observations drin sind, vllt kannst du es mal probieren ? :)"
      ]
    },
    {
      "cell_type": "code",
      "metadata": {
        "id": "_yAQjNUibCgo",
        "colab_type": "code",
        "colab": {
          "base_uri": "https://localhost:8080/",
          "height": 34
        },
        "outputId": "85348581-3777-4e64-c683-8b8998175aca"
      },
      "source": [
        "from google.colab import drive\n",
        "drive.mount('/content/gdrive')"
      ],
      "execution_count": 2,
      "outputs": [
        {
          "output_type": "stream",
          "text": [
            "Drive already mounted at /content/gdrive; to attempt to forcibly remount, call drive.mount(\"/content/gdrive\", force_remount=True).\n"
          ],
          "name": "stdout"
        }
      ]
    },
    {
      "cell_type": "code",
      "metadata": {
        "id": "02Oe_-tbbEgF",
        "colab_type": "code",
        "colab": {
          "base_uri": "https://localhost:8080/",
          "height": 34
        },
        "outputId": "9a68b2e5-8159-4cda-87ed-f284e7cd277d"
      },
      "source": [
        "import numpy as np\n",
        "import pandas as pd\n",
        "import matplotlib.pyplot as plt\n",
        "from matplotlib.patches import Patch\n",
        "!pip install minisom\n",
        "from minisom import MiniSom\n",
        "import math "
      ],
      "execution_count": 3,
      "outputs": [
        {
          "output_type": "stream",
          "text": [
            "Requirement already satisfied: minisom in /usr/local/lib/python3.6/dist-packages (2.1.6)\n"
          ],
          "name": "stdout"
        }
      ]
    },
    {
      "cell_type": "code",
      "metadata": {
        "id": "ZHF0qFiabGLU",
        "colab_type": "code",
        "colab": {}
      },
      "source": [
        "# load data\n",
        "data =pd.read_csv('/content/gdrive/My Drive/data_wordvectors_obs.csv', sep=',').iloc[:, 1:]\n",
        "data"
      ],
      "execution_count": 0,
      "outputs": []
    },
    {
      "cell_type": "code",
      "metadata": {
        "id": "x8r3Um7ehYHl",
        "colab_type": "code",
        "colab": {}
      },
      "source": [
        "indexvec = []\n",
        "for col in range(0, len(data.columns)-7): \n",
        "  indexvec.append(\"x\" + str(col+1))\n",
        "indexvec\n",
        "vectors = data[indexvec]\n",
        "vectors = np.array(vectors)"
      ],
      "execution_count": 0,
      "outputs": []
    },
    {
      "cell_type": "code",
      "metadata": {
        "id": "BHuiOVHGbKmr",
        "colab_type": "code",
        "colab": {}
      },
      "source": [
        "category_color = {'CDU' : 'black',\n",
        "                 'SPD': 'red',\n",
        "                 'Grüne' : 'green',\n",
        "                 'AfD' : 'brown',\n",
        "                 'Linke': 'darkred',\n",
        "                 'FDP' : 'yellow'}\n",
        "  \n",
        "category_color2 = {'Annegreth Kramp-Karrenbauer': 'black',\n",
        "                  'Angela Merkel': 'black',\n",
        "                  'Katharina Barley': 'red',\n",
        "                  'Andrea Nahles': 'red',\n",
        "                   \"Cem Özdemir\":'limegreen',\n",
        "                 \"Kathrin Goering-Eckardt\":'limegreen',\n",
        "                 \"Alice Weidel\": 'brown',\n",
        "                 \"Jörg Meuthen\": 'brown',\n",
        "                 \"Sarah Wagenknecht\": 'darkred',\n",
        "                 \"Christian Lindner\": 'yellow'}\n",
        "category_short = {'Annegreth Kramp-Karrenbauer': 'AKK',\n",
        "                  'Angela Merkel': 'AM',\n",
        "                  'Katharina Barley': 'KB',\n",
        "                  'Andrea Nahles': 'AN',\n",
        "                   \"Cem Özdemir\":'CÖ',\n",
        "                 \"Kathrin Goering-Eckardt\":'KGE',\n",
        "                 \"Alice Weidel\": 'AW',\n",
        "                 \"Jörg Meuthen\": 'JM',\n",
        "                 \"Sarah Wagenknecht\": 'SW',\n",
        "                 \"Christian Lindner\": 'CL'}"
      ],
      "execution_count": 0,
      "outputs": []
    },
    {
      "cell_type": "code",
      "metadata": {
        "id": "odykjSjebLse",
        "colab_type": "code",
        "colab": {
          "base_uri": "https://localhost:8080/",
          "height": 68
        },
        "outputId": "45346fbe-047a-4f1a-926a-683f32876621"
      },
      "source": [
        "# choose map dimension as number of samples so that\n",
        "# each neuron gets mapped to a sample\n",
        "# in our case: one tweet\n",
        "map_dim = round(5*math.sqrt(len(vectors)))\n",
        "#map_dim = 5\n",
        "print(\"Preparing training...\")\n",
        "som = MiniSom(map_dim, map_dim, 30, sigma=1.0, random_seed=1)\n",
        "som.pca_weights_init(vectors)\n",
        "print(\"\\n...ready!\")"
      ],
      "execution_count": 20,
      "outputs": [
        {
          "output_type": "stream",
          "text": [
            "Training...\n",
            "\n",
            "...ready!\n"
          ],
          "name": "stdout"
        }
      ]
    },
    {
      "cell_type": "code",
      "metadata": {
        "id": "2jfFJ7w7bRxv",
        "colab_type": "code",
        "colab": {
          "base_uri": "https://localhost:8080/",
          "height": 307
        },
        "outputId": "3438af69-3cfa-435b-cae9-d92a22776e7b"
      },
      "source": [
        "# train SOM\n",
        "# due to our large observation size this might take some time...\n",
        "som.train_batch(vectors, len(vectors)*10)"
      ],
      "execution_count": 21,
      "outputs": [
        {
          "output_type": "error",
          "ename": "KeyboardInterrupt",
          "evalue": "ignored",
          "traceback": [
            "\u001b[0;31m---------------------------------------------------------------------------\u001b[0m",
            "\u001b[0;31mKeyboardInterrupt\u001b[0m                         Traceback (most recent call last)",
            "\u001b[0;32m<ipython-input-21-47dc4b38dc45>\u001b[0m in \u001b[0;36m<module>\u001b[0;34m()\u001b[0m\n\u001b[0;32m----> 1\u001b[0;31m \u001b[0msom\u001b[0m\u001b[0;34m.\u001b[0m\u001b[0mtrain_batch\u001b[0m\u001b[0;34m(\u001b[0m\u001b[0mvectors\u001b[0m\u001b[0;34m,\u001b[0m \u001b[0mlen\u001b[0m\u001b[0;34m(\u001b[0m\u001b[0mvectors\u001b[0m\u001b[0;34m)\u001b[0m\u001b[0;34m*\u001b[0m\u001b[0;36m10\u001b[0m\u001b[0;34m)\u001b[0m\u001b[0;34m\u001b[0m\u001b[0;34m\u001b[0m\u001b[0m\n\u001b[0m",
            "\u001b[0;32m/usr/local/lib/python3.6/dist-packages/minisom.py\u001b[0m in \u001b[0;36mtrain_batch\u001b[0;34m(self, data, num_iteration, verbose)\u001b[0m\n\u001b[1;32m    346\u001b[0m             \u001b[0midx\u001b[0m \u001b[0;34m=\u001b[0m \u001b[0miteration\u001b[0m \u001b[0;34m%\u001b[0m \u001b[0;34m(\u001b[0m\u001b[0mlen\u001b[0m\u001b[0;34m(\u001b[0m\u001b[0mdata\u001b[0m\u001b[0;34m)\u001b[0m\u001b[0;34m-\u001b[0m\u001b[0;36m1\u001b[0m\u001b[0;34m)\u001b[0m\u001b[0;34m\u001b[0m\u001b[0;34m\u001b[0m\u001b[0m\n\u001b[1;32m    347\u001b[0m             self.update(data[idx], self.winner(data[idx]),\n\u001b[0;32m--> 348\u001b[0;31m                         iteration, num_iteration)\n\u001b[0m\u001b[1;32m    349\u001b[0m         \u001b[0;32mif\u001b[0m \u001b[0mverbose\u001b[0m\u001b[0;34m:\u001b[0m\u001b[0;34m\u001b[0m\u001b[0;34m\u001b[0m\u001b[0m\n\u001b[1;32m    350\u001b[0m             \u001b[0mprint\u001b[0m\u001b[0;34m(\u001b[0m\u001b[0;34m' - quantization error:'\u001b[0m\u001b[0;34m,\u001b[0m \u001b[0mself\u001b[0m\u001b[0;34m.\u001b[0m\u001b[0mquantization_error\u001b[0m\u001b[0;34m(\u001b[0m\u001b[0mdata\u001b[0m\u001b[0;34m)\u001b[0m\u001b[0;34m)\u001b[0m\u001b[0;34m\u001b[0m\u001b[0;34m\u001b[0m\u001b[0m\n",
            "\u001b[0;32m/usr/local/lib/python3.6/dist-packages/minisom.py\u001b[0m in \u001b[0;36mupdate\u001b[0;34m(self, x, win, t, max_iteration)\u001b[0m\n\u001b[1;32m    246\u001b[0m             \u001b[0;31m# eta * neighborhood_function * (x-w)\u001b[0m\u001b[0;34m\u001b[0m\u001b[0;34m\u001b[0m\u001b[0;34m\u001b[0m\u001b[0m\n\u001b[1;32m    247\u001b[0m             \u001b[0mx_w\u001b[0m \u001b[0;34m=\u001b[0m \u001b[0;34m(\u001b[0m\u001b[0mx\u001b[0m \u001b[0;34m-\u001b[0m \u001b[0mself\u001b[0m\u001b[0;34m.\u001b[0m\u001b[0m_weights\u001b[0m\u001b[0;34m[\u001b[0m\u001b[0mit\u001b[0m\u001b[0;34m.\u001b[0m\u001b[0mmulti_index\u001b[0m\u001b[0;34m]\u001b[0m\u001b[0;34m)\u001b[0m\u001b[0;34m\u001b[0m\u001b[0;34m\u001b[0m\u001b[0m\n\u001b[0;32m--> 248\u001b[0;31m             \u001b[0mself\u001b[0m\u001b[0;34m.\u001b[0m\u001b[0m_weights\u001b[0m\u001b[0;34m[\u001b[0m\u001b[0mit\u001b[0m\u001b[0;34m.\u001b[0m\u001b[0mmulti_index\u001b[0m\u001b[0;34m]\u001b[0m \u001b[0;34m+=\u001b[0m \u001b[0mg\u001b[0m\u001b[0;34m[\u001b[0m\u001b[0mit\u001b[0m\u001b[0;34m.\u001b[0m\u001b[0mmulti_index\u001b[0m\u001b[0;34m]\u001b[0m \u001b[0;34m*\u001b[0m \u001b[0mx_w\u001b[0m\u001b[0;34m\u001b[0m\u001b[0;34m\u001b[0m\u001b[0m\n\u001b[0m\u001b[1;32m    249\u001b[0m             \u001b[0mit\u001b[0m\u001b[0;34m.\u001b[0m\u001b[0miternext\u001b[0m\u001b[0;34m(\u001b[0m\u001b[0;34m)\u001b[0m\u001b[0;34m\u001b[0m\u001b[0;34m\u001b[0m\u001b[0m\n\u001b[1;32m    250\u001b[0m \u001b[0;34m\u001b[0m\u001b[0m\n",
            "\u001b[0;31mKeyboardInterrupt\u001b[0m: "
          ]
        }
      ]
    },
    {
      "cell_type": "code",
      "metadata": {
        "id": "iis0bG9FbTY1",
        "colab_type": "code",
        "colab": {}
      },
      "source": [
        "user_map = som.labels_map(vectors, data['real'])"
      ],
      "execution_count": 0,
      "outputs": []
    },
    {
      "cell_type": "code",
      "metadata": {
        "id": "z09c1LJEbVIW",
        "colab_type": "code",
        "colab": {}
      },
      "source": [
        "user_map.items()"
      ],
      "execution_count": 0,
      "outputs": []
    },
    {
      "cell_type": "code",
      "metadata": {
        "id": "uLuXOolkbVvf",
        "colab_type": "code",
        "colab": {}
      },
      "source": [
        "plt.figure(figsize=(map_dim, map_dim))\n",
        "plt.pcolor(som.distance_map().T, cmap='gray_r', alpha=.2)\n",
        "plt.xticks(np.arange(map_dim+1))\n",
        "plt.yticks(np.arange(map_dim+1))\n",
        "plt.grid()\n",
        "\n",
        "for p, countries in user_map.items():\n",
        "    countries = list(countries)\n",
        "    x = p[0] + .5\n",
        "    y = p[1] - .5\n",
        "    for i, c in enumerate(countries):\n",
        "        off_set = (i+1)/len(countries) - 0.05\n",
        "        plt.text(x, y+off_set, category_short[c], color = category_color2[c],  fontsize=10)\n",
        "        #plt.plot(x, y+off_set, 'ro', color = category_color2[c],)\n",
        "legend_elements = [Patch(facecolor=clr,\n",
        "                         edgecolor='w',\n",
        "                         label=l) for l, clr in category_color.items()]\n",
        "plt.legend(handles=legend_elements, loc='center left', bbox_to_anchor=(1, .95))\n",
        "plt.show()"
      ],
      "execution_count": 0,
      "outputs": []
    }
  ]
}