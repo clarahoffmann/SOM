{
  "nbformat": 4,
  "nbformat_minor": 0,
  "metadata": {
    "colab": {
      "name": "3_SOM_Politician.ipynb",
      "version": "0.3.2",
      "provenance": [],
      "collapsed_sections": []
    },
    "kernelspec": {
      "name": "python3",
      "display_name": "Python 3"
    }
  },
  "cells": [
    {
      "cell_type": "markdown",
      "metadata": {
        "id": "lOc1dNiueIZr",
        "colab_type": "text"
      },
      "source": [
        "\n",
        "# Comparing Twitter behavior of German politicians  before and after the European Election 2019 using Self-Organizing Maps\n",
        " \n",
        "**2.Train the Self-Organizing Map**\n",
        "\n",
        "Student Project on Self-Organizing Maps \n",
        "\n",
        "---\n",
        "\n",
        "\n",
        "Authors: Clara Hoffmann & Oliver Becker"
      ]
    },
    {
      "cell_type": "code",
      "metadata": {
        "id": "wkxBNAkgoLOH",
        "colab_type": "code",
        "colab": {
          "base_uri": "https://localhost:8080/",
          "height": 122
        },
        "outputId": "2fbf8e53-92c1-4dab-9386-2f5eaf906221"
      },
      "source": [
        "# mount drive\n",
        "from google.colab import drive\n",
        "drive.mount('/content/drive')"
      ],
      "execution_count": 1,
      "outputs": [
        {
          "output_type": "stream",
          "text": [
            "Go to this URL in a browser: https://accounts.google.com/o/oauth2/auth?client_id=947318989803-6bn6qk8qdgf4n4g3pfee6491hc0brc4i.apps.googleusercontent.com&redirect_uri=urn%3Aietf%3Awg%3Aoauth%3A2.0%3Aoob&scope=email%20https%3A%2F%2Fwww.googleapis.com%2Fauth%2Fdocs.test%20https%3A%2F%2Fwww.googleapis.com%2Fauth%2Fdrive%20https%3A%2F%2Fwww.googleapis.com%2Fauth%2Fdrive.photos.readonly%20https%3A%2F%2Fwww.googleapis.com%2Fauth%2Fpeopleapi.readonly&response_type=code\n",
            "\n",
            "Enter your authorization code:\n",
            "··········\n",
            "Mounted at /content/drive\n"
          ],
          "name": "stdout"
        }
      ]
    },
    {
      "cell_type": "code",
      "metadata": {
        "id": "7xTHajzGFmQW",
        "colab_type": "code",
        "colab": {}
      },
      "source": [
        "# specify path\n",
        "# Clara\n",
        "path = \"/content/drive/My Drive/\"\n",
        "# Oliver\n",
        "#path = \"/content/gdrive/My Drive/\"\n"
      ],
      "execution_count": 0,
      "outputs": []
    },
    {
      "cell_type": "code",
      "metadata": {
        "id": "IH3QLeHJoR0F",
        "colab_type": "code",
        "colab": {
          "base_uri": "https://localhost:8080/",
          "height": 153
        },
        "outputId": "858377ed-5aa0-40d5-ed2d-340846fd2343"
      },
      "source": [
        "import numpy as np\n",
        "import pandas as pd\n",
        "import matplotlib.pyplot as plt\n",
        "from matplotlib.patches import Patch\n",
        "!pip install minisom\n",
        "from minisom import MiniSom # computes soms\n",
        "import math  "
      ],
      "execution_count": 3,
      "outputs": [
        {
          "output_type": "stream",
          "text": [
            "Collecting minisom\n",
            "  Downloading https://files.pythonhosted.org/packages/8c/33/f71756da20137740008d6f99f861e0b5df74b5fa08d032dcb02dfe19c128/MiniSom-2.1.6.tar.gz\n",
            "Building wheels for collected packages: minisom\n",
            "  Building wheel for minisom (setup.py) ... \u001b[?25l\u001b[?25hdone\n",
            "  Stored in directory: /root/.cache/pip/wheels/08/46/49/a920ae8083e5da81a42e90a799fb73a0bc52006d927197e50b\n",
            "Successfully built minisom\n",
            "Installing collected packages: minisom\n",
            "Successfully installed minisom-2.1.6\n"
          ],
          "name": "stdout"
        }
      ]
    },
    {
      "cell_type": "code",
      "metadata": {
        "id": "d3NUUXaXoVm0",
        "colab_type": "code",
        "colab": {}
      },
      "source": [
        "# load data\n",
        "data =pd.read_csv((path + 'data_wordvectors_pers.csv'), sep=',').iloc[:, 1:]\n",
        "\n",
        "indexvec = []\n",
        "for col in range(0, len(data.columns)-3): \n",
        "  indexvec.append(\"x\" + str(col+1))"
      ],
      "execution_count": 0,
      "outputs": []
    },
    {
      "cell_type": "code",
      "metadata": {
        "id": "pJAQeupZbwF5",
        "colab_type": "code",
        "colab": {}
      },
      "source": [
        "# create vectors to train SOM for post and pre election\n",
        "#pre\n",
        "vectors_pre = data[data['time'] == 'pre']\n",
        "vectors_pre = vectors_pre[indexvec]\n",
        "vectors_pre = np.array(vectors_pre )\n",
        "# post\n",
        "vectors_post = data[data['time'] == 'post']\n",
        "vectors_post = vectors_post[indexvec]\n",
        "vectors_post = np.array(vectors_post )"
      ],
      "execution_count": 0,
      "outputs": []
    },
    {
      "cell_type": "code",
      "metadata": {
        "id": "NzZf9u318U0-",
        "colab_type": "code",
        "colab": {}
      },
      "source": [
        "# colors for our plots\n",
        "category_color = {'CDU' : 'black',\n",
        "                 'SPD': 'red',\n",
        "                 'Grüne' : 'green',\n",
        "                 'AfD' : 'darkgoldenrod',\n",
        "                 'Linke': 'darkred',\n",
        "                 'FDP' : 'gold',\n",
        "                 'CSU' : 'blue'}\n",
        "  \n",
        "category_color2 = {'Annegreth Kramp-Karrenbauer': 'black',\n",
        "                   'Jens Spahn': 'black',\n",
        "                   'Markus Söder' : 'blue',\n",
        "                   'Katharina Barley' : 'red',\n",
        "                   'Andrea Nahles': 'red',\n",
        "                   'Cem Özdemir' : 'limegreen',\n",
        "                   \"Annalena Baerbock\":'limegreen',\n",
        "                   \"Alice Weidel\": 'darkgoldenrod',\n",
        "                   \"Jörg Meuthen\": 'darkgoldenrod',\n",
        "                   \"Katja Kipping\": 'darkred',\n",
        "                   \"Gregor Gysi\" : 'darkred',\n",
        "                   \"Christian Lindner\": 'gold'}"
      ],
      "execution_count": 0,
      "outputs": []
    },
    {
      "cell_type": "markdown",
      "metadata": {
        "id": "YJ0cdTGbf08m",
        "colab_type": "text"
      },
      "source": [
        "**Train our SOM**"
      ]
    },
    {
      "cell_type": "code",
      "metadata": {
        "id": "D7642zIA6FXl",
        "colab_type": "code",
        "colab": {}
      },
      "source": [
        "def trainsom(vectors):\n",
        "  # choose map dimension as number of samples so that\n",
        "  # each neuron gets mapped to a sample\n",
        "  # in our case: one tweet\n",
        "  map_dim = 30  #round(5*math.sqrt(len(vectors)))\n",
        "\n",
        "  print(\"Training...\")\n",
        "  som = MiniSom(map_dim, map_dim, 200 ,sigma=3.0, random_seed=4568)\n",
        "  #som.random_weights_init(vectors) # option to initialize weights randomly\n",
        "  som.pca_weights_init(vectors)\n",
        "  print(\"\\n...ready!\")\n",
        "  \n",
        "  # train SOM\n",
        "  # due to our large # of iterations and dimensions this might take some time...\n",
        "  # the option train_batch chooses oberservations sequentially instead of randomly\n",
        "  #som.train_batch(vectors, len(vectors)*500) \n",
        "  som.train_random(vectors, len(vectors)*500) # picks vectors randomly\n",
        "  user_map = som.labels_map(vectors, data['name'])\n",
        "  model = som\n",
        "  return(user_map, som)"
      ],
      "execution_count": 0,
      "outputs": []
    },
    {
      "cell_type": "code",
      "metadata": {
        "id": "ig1YGIDG6Xgk",
        "colab_type": "code",
        "colab": {
          "base_uri": "https://localhost:8080/",
          "height": 153
        },
        "outputId": "7034217d-aba1-4446-e925-892548fd1a45"
      },
      "source": [
        "# train SOMs\n",
        "som_pre = trainsom(vectors_pre)\n",
        "som_post = trainsom(vectors_post)"
      ],
      "execution_count": 8,
      "outputs": [
        {
          "output_type": "stream",
          "text": [
            "Training...\n",
            "\n",
            "...ready!\n"
          ],
          "name": "stdout"
        },
        {
          "output_type": "stream",
          "text": [
            "/usr/local/lib/python3.6/dist-packages/minisom.py:293: ComplexWarning: Casting complex values to real discards the imaginary part\n",
            "  self._weights[i, j] = c1*pc[pc_order[0]] + c2*pc[pc_order[1]]\n"
          ],
          "name": "stderr"
        },
        {
          "output_type": "stream",
          "text": [
            "Training...\n",
            "\n",
            "...ready!\n"
          ],
          "name": "stdout"
        }
      ]
    },
    {
      "cell_type": "code",
      "metadata": {
        "id": "tE_Ze7p7ZMvj",
        "colab_type": "code",
        "colab": {}
      },
      "source": [
        "# build  model and usermap for plotting\n",
        "som_pre_usermap = som_pre[0]\n",
        "som_pre_model = som_pre[1]\n",
        "# check usermap, if two politicians\n",
        "# are mapped to the same neuron our \n",
        "# 3d plot doesn't work\n",
        "som_pre_usermap "
      ],
      "execution_count": 0,
      "outputs": []
    },
    {
      "cell_type": "code",
      "metadata": {
        "id": "g_DQjj1MUCBX",
        "colab_type": "code",
        "colab": {}
      },
      "source": [
        "som_post_usermap = som_post[0]\n",
        "som_post_model = som_post[1]\n",
        "som_post_usermap"
      ],
      "execution_count": 0,
      "outputs": []
    },
    {
      "cell_type": "code",
      "metadata": {
        "id": "3IkH0GsHfbk-",
        "colab_type": "code",
        "colab": {}
      },
      "source": [
        "# set map dimension\n",
        "map_dim = 30"
      ],
      "execution_count": 0,
      "outputs": []
    },
    {
      "cell_type": "markdown",
      "metadata": {
        "id": "JB3rhpLlgEdV",
        "colab_type": "text"
      },
      "source": [
        "**Plot in 3d as cartographical map**"
      ]
    },
    {
      "cell_type": "code",
      "metadata": {
        "id": "nQ5zlF0DkzAp",
        "colab_type": "code",
        "colab": {}
      },
      "source": [
        "from mpl_toolkits.mplot3d import Axes3D\n",
        "from matplotlib import cm\n",
        "from matplotlib.ticker import LinearLocator, FormatStrFormatter\n",
        "import matplotlib.pyplot as plt\n",
        "import matplotlib\n",
        "from pylab import *\n",
        "import numpy as np\n",
        "import seaborn as sns\n",
        "\n",
        "%matplotlib inline\n",
        "\n",
        "matplotlib.rc('axes',edgecolor='gray')\n",
        "\n",
        "def plot3d(user_map, som, modelname):\n",
        " fig = plt.figure(figsize=(map_dim,map_dim))\n",
        " ax = fig.add_subplot(111, projection='3d')\n",
        " #Sample color data\n",
        " heatmap = np.array(som.distance_map().T)\n",
        " #sample Z data\n",
        " z = np.array(som.distance_map().T)\n",
        " x = np.arange(0,map_dim , 1)\n",
        " y = np.arange(0, map_dim, 1)\n",
        " X, Y = np.meshgrid(x, y)\n",
        "   \n",
        " #Create the surface\n",
        " surf = ax.plot_surface(X, Y, z, #rstride=1, cstride=1,  \n",
        "                       linewidth=1, cmap='binary', edgecolor='none', \n",
        "                       shade=False , antialiased=True, alpha=0.5, \n",
        "                       zorder = 1) \n",
        "\n",
        " ax.contour(X, Y, z, 15, linewidths = 0.3, colors='grey', zorder = 1);\n",
        "\n",
        " #Axis limits\n",
        " ax.set_xlim3d(0, map_dim)\n",
        " ax.set_ylim3d(0, map_dim)\n",
        " ax.xaxis.set_label_text(\"Node\")\n",
        " ax.yaxis.set_label_text(\"Node\")\n",
        " ax.zaxis.set_label_text(\"Euclidean Distance\")\n",
        " # get x coordinate\n",
        " xob = []\n",
        " for p in user_map.items():\n",
        "    xob.append(p[0][0])\n",
        " # get y coordinate\n",
        " yob = []\n",
        " for p in user_map.items():\n",
        "    yob.append(p[0][1])\n",
        "    \n",
        " name = []\n",
        " for p in user_map.items():\n",
        "    test = re.sub(r'[(){}<>]', '', str(p[1]))\n",
        "    test = re.sub(r'Counter', '', test)\n",
        "    test = test.replace(': 1','')\n",
        "    test = test.replace(\"'\", \"\")\n",
        "    name.append(test)\n",
        "  \n",
        " coord = []\n",
        " lst = som.distance_map() #.T\n",
        " j = 0\n",
        " for i in xob :\n",
        "   lst0 = lst[i]\n",
        "   lst1 = lst0[yob[j]]\n",
        "   coord.append(lst1)\n",
        "   j = j+1\n",
        "\n",
        " # assign colors\n",
        " color = []\n",
        " for x in name:\n",
        "  p = category_color2[x]\n",
        "  color.append(p)\n",
        " color\n",
        "  \n",
        " # plot points\n",
        " ax.scatter(xob,yob ,coord, label = name,  marker='.', s=120, c=color, zorder=50)\n",
        " # give names to points\n",
        " for i in range(0,len(xob)): #plot each point + it's index as text above\n",
        "  ax.text(xob[i] + 1.5 ,yob[i] + 1.5 ,coord[i],  '%s' % (str(name[i])), size=30, zorder=20,  \n",
        "  color = color[i], ha = 'center') #color=color\n",
        "\n",
        " #Set view angle\n",
        " ax.view_init(elev=80, azim=200 )\n",
        "\n",
        " # make background white\n",
        " ax.xaxis.pane.fill = False\n",
        " ax.yaxis.pane.fill = False\n",
        " ax.zaxis.pane.fill = False\n",
        " ax.xaxis.pane.set_edgecolor('w')\n",
        " ax.yaxis.pane.set_edgecolor('w')\n",
        " ax.zaxis.pane.set_edgecolor('w')\n",
        "\n",
        " # remove axes\n",
        " #ax.set_axis_off()\n",
        " #ax.set_xlabel('neuron x coordinate')\n",
        " #ax.set_ylabel('neuron y coordinate')\n",
        " #ax.set_zlabel('U-Matrix value')\n",
        "\n",
        " # Hide grid lines\n",
        " ax.grid(False)\n",
        " ax.set_ylabel('y coordinate')\n",
        " ax.set_xlabel('x coordinate')\n",
        " ax.set_zlabel('U-matrix value')\n",
        "\n",
        " # Hide axes ticks\n",
        " ax.set_xticks([])\n",
        " ax.set_yticks([])\n",
        " ax.set_zticks([])\n",
        "\n",
        " # define legend\n",
        " legend_elements = [Patch(facecolor=clr,\n",
        "                         edgecolor='w',\n",
        "                         label=l) for l, clr in category_color.items()]\n",
        " leg = plt.legend(handles=legend_elements, loc='center right', title=\"Partys\", prop={'size': 27}) # , bbox_to_anchor=(1, .75)\n",
        " leg.get_frame().set_linewidth(0.0)\n",
        " plt.setp(leg.get_title(),size=27)\n",
        " cbaxes = fig.add_axes([0.81, 0.23, 0.05, 0.14]) \n",
        " cbar = fig.colorbar(surf, shrink=-40, aspect=10, cax = cbaxes)\n",
        " cbar.set_label('U-matrix value', rotation = 360, labelpad=-10, y=1.2, size = 27)\n",
        "\n",
        " plt.show()\n",
        "\n",
        "\n",
        " fig.savefig(str(modelname) + '.pdf',dpi=300, bbox_extra_artists=(leg,), bbox_inches='tight', pad_inches = 0)\n"
      ],
      "execution_count": 0,
      "outputs": []
    },
    {
      "cell_type": "code",
      "metadata": {
        "id": "G8-Noy69f_bT",
        "colab_type": "code",
        "colab": {}
      },
      "source": [
        "plot3d(som_pre_usermap, som_pre_model, 'premodel3d'  )"
      ],
      "execution_count": 0,
      "outputs": []
    },
    {
      "cell_type": "code",
      "metadata": {
        "id": "uR1_fY-_WyoL",
        "colab_type": "code",
        "colab": {}
      },
      "source": [
        "plot3d(som_post_usermap, som_post_model, 'postmodel3d'  )"
      ],
      "execution_count": 0,
      "outputs": []
    }
  ]
}